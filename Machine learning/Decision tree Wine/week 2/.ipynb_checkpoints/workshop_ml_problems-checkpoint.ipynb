{
 "cells": [
  {
   "cell_type": "markdown",
   "metadata": {},
   "source": [
    "# Workshop 1: excersices for practice\n",
    "\n",
    "This workshops 1 problems are not assessed and are intended for practicing the the concepts introduced in the 1st ML lecture, the and the notebooks `data-science-tools.ipynb` and `lecture2.ipynb`. \n",
    "\n",
    "It is recommended that you go thorugh those notebooks 1st and try to understand each line before jumping into the excersises."
   ]
  },
  {
   "cell_type": "markdown",
   "metadata": {},
   "source": [
    "*Responsible:* Robert Currie (<rob.currie@ed.ac.uk>) borrowed from Guillermo Hamity\n",
    "\n",
    "## Wine quality dataset\n",
    "\n",
    "The [wine quality dataset](https://archive.ics.uci.edu/ml/datasets/wine%20quality) will be analysed\n",
    "\n",
    "***Before*** we begin you will need to copy the dataset `wine_quality.csv` into the same directory as you're running this notebook!\n",
    "\n",
    "### Dataset information\n",
    "Two datasets were created, using red and white wine samples.\n",
    "The inputs include objective tests (e.g. PH values) and the output is based on sensory data\n",
    "(median of at least 3 evaluations made by wine experts). Each expert graded the wine quality \n",
    "between 0 (very bad) and 10 (very excellent). \n",
    "  \n",
    "1. Number of Instances: red wine - 1599; white wine - 4898. \n",
    "\n",
    "2. Number of Attributes: 11 + output attribute\n",
    "  \n",
    "   Note: several of the attributes may be correlated, thus it makes sense to apply some sort of\n",
    "   feature selection.\n",
    "\n",
    "3. Attribute information:\n",
    "\n",
    "   For more information, read [Cortez et al., 2009].\n",
    "\n",
    "   Input variables (based on physicochemical tests):\n",
    "   1. fixed acidity\n",
    "   \n",
    "   2. volatile acidity\n",
    "   \n",
    "   3. citric acid\n",
    "   \n",
    "   4. residual sugar\n",
    "   \n",
    "   5. chlorides\n",
    "   \n",
    "   6. free sulfur dioxide\n",
    "   \n",
    "   7. total sulfur dioxide\n",
    "   \n",
    "   8. density\n",
    "   \n",
    "   9. pH\n",
    "   \n",
    "   10. sulphates\n",
    "   \n",
    "   11. alcohol\n",
    "   \n",
    "   12. type (R=red, W=white)\n",
    "   \n",
    "   Output variable (based on sensory data): \n",
    "   12 - quality (score between 0 and 10)\n",
    "\n",
    "### Purpose:\n",
    "\n",
    "We will design a model which predicts the quality of **RED** wine based on the input features. In order to achive this we will perform some initial investigations, preperation, and visiualisation of the data. We will then train decition trees to distinguish good vs bad  **red** wines, and check the validity of our model on a testing dataset.\n",
    "\n",
    "### Working through the problems\n",
    "* Try and calculate the answers provided. \n",
    "* Keep code understandable and reproducible, i.e. the notebook can be **restarted** and **re-run**. You will need to do this when work is marked, so better to start practicing.\n",
    "* If you are unsure on how to proceed please reference the two companion notebooks for relevant examples, or **ask one of the TAs**\n",
    "\n",
    "### Notes on solution\n",
    "* This CP exercise sheet is divided into three sections, corresponding to parts of the lecture. The problems will **not** be marked.\n",
    "  - Data science tools \n",
    "  - Visualisation \n",
    "  - Decision tree classification + ensemble methods\n",
    "* Exercises 1-5 can be solved with one line of code while still being legible. _(That's not a weird flex, nor required, just letting you know that if you find yourself with a 20-line long solution, it can probably be done in a simpler way.)_\n",
    "* The following `pandas.DataFrame` functions may be useful: `head`, `describe`, `loc`, `query`, `unique`, `value_counts`, `sort_values`, `group_by`, `apply`, `transform`."
   ]
  },
  {
   "cell_type": "code",
   "execution_count": 15,
   "metadata": {},
   "outputs": [],
   "source": [
    "#Turn off some warnings which we can ignore for this example\n",
    "import warnings\n",
    "warnings.simplefilter(action='ignore', category=FutureWarning)\n",
    "\n",
    "# Standard import(s)\n",
    "import numpy as np\n",
    "import pandas as pd\n",
    "import matplotlib.pyplot as plt\n",
    "import seaborn as sns\n",
    "from sklearn import datasets"
   ]
  },
  {
   "cell_type": "code",
   "execution_count": 16,
   "metadata": {},
   "outputs": [],
   "source": [
    "# Load wine dataset\n",
    "obs = pd.read_csv('wine_quality.csv')"
   ]
  },
  {
   "cell_type": "code",
   "execution_count": 17,
   "metadata": {},
   "outputs": [
    {
     "data": {
      "text/plain": [
       "Index(['fixed_acidity', 'volatile_acidity', 'citric_acid', 'residual_sugar',\n",
       "       'chlorides', 'free_sulfur_dioxide', 'total_sulfur_dioxide', 'density',\n",
       "       'pH', 'sulphates', 'alcohol', 'quality', 'type'],\n",
       "      dtype='object')"
      ]
     },
     "execution_count": 17,
     "metadata": {},
     "output_type": "execute_result"
    }
   ],
   "source": [
    "# Show available properties of the dataset\n",
    "obs.keys()"
   ]
  },
  {
   "cell_type": "code",
   "execution_count": 18,
   "metadata": {},
   "outputs": [
    {
     "data": {
      "text/html": [
       "<div>\n",
       "<style scoped>\n",
       "    .dataframe tbody tr th:only-of-type {\n",
       "        vertical-align: middle;\n",
       "    }\n",
       "\n",
       "    .dataframe tbody tr th {\n",
       "        vertical-align: top;\n",
       "    }\n",
       "\n",
       "    .dataframe thead th {\n",
       "        text-align: right;\n",
       "    }\n",
       "</style>\n",
       "<table border=\"1\" class=\"dataframe\">\n",
       "  <thead>\n",
       "    <tr style=\"text-align: right;\">\n",
       "      <th></th>\n",
       "      <th>fixed_acidity</th>\n",
       "      <th>volatile_acidity</th>\n",
       "      <th>citric_acid</th>\n",
       "      <th>residual_sugar</th>\n",
       "      <th>chlorides</th>\n",
       "      <th>free_sulfur_dioxide</th>\n",
       "      <th>total_sulfur_dioxide</th>\n",
       "      <th>density</th>\n",
       "      <th>pH</th>\n",
       "      <th>sulphates</th>\n",
       "      <th>alcohol</th>\n",
       "      <th>quality</th>\n",
       "      <th>type</th>\n",
       "    </tr>\n",
       "  </thead>\n",
       "  <tbody>\n",
       "    <tr>\n",
       "      <th>0</th>\n",
       "      <td>7.4</td>\n",
       "      <td>0.70</td>\n",
       "      <td>0.00</td>\n",
       "      <td>1.9</td>\n",
       "      <td>0.076</td>\n",
       "      <td>11.0</td>\n",
       "      <td>34.0</td>\n",
       "      <td>0.9978</td>\n",
       "      <td>3.51</td>\n",
       "      <td>0.56</td>\n",
       "      <td>9.4</td>\n",
       "      <td>5</td>\n",
       "      <td>W</td>\n",
       "    </tr>\n",
       "    <tr>\n",
       "      <th>1</th>\n",
       "      <td>7.8</td>\n",
       "      <td>0.88</td>\n",
       "      <td>0.00</td>\n",
       "      <td>2.6</td>\n",
       "      <td>0.098</td>\n",
       "      <td>25.0</td>\n",
       "      <td>67.0</td>\n",
       "      <td>0.9968</td>\n",
       "      <td>3.20</td>\n",
       "      <td>0.68</td>\n",
       "      <td>9.8</td>\n",
       "      <td>5</td>\n",
       "      <td>W</td>\n",
       "    </tr>\n",
       "    <tr>\n",
       "      <th>2</th>\n",
       "      <td>7.8</td>\n",
       "      <td>0.76</td>\n",
       "      <td>0.04</td>\n",
       "      <td>2.3</td>\n",
       "      <td>0.092</td>\n",
       "      <td>15.0</td>\n",
       "      <td>54.0</td>\n",
       "      <td>0.9970</td>\n",
       "      <td>3.26</td>\n",
       "      <td>0.65</td>\n",
       "      <td>9.8</td>\n",
       "      <td>5</td>\n",
       "      <td>W</td>\n",
       "    </tr>\n",
       "    <tr>\n",
       "      <th>3</th>\n",
       "      <td>11.2</td>\n",
       "      <td>0.28</td>\n",
       "      <td>0.56</td>\n",
       "      <td>1.9</td>\n",
       "      <td>0.075</td>\n",
       "      <td>17.0</td>\n",
       "      <td>60.0</td>\n",
       "      <td>0.9980</td>\n",
       "      <td>3.16</td>\n",
       "      <td>0.58</td>\n",
       "      <td>9.8</td>\n",
       "      <td>6</td>\n",
       "      <td>W</td>\n",
       "    </tr>\n",
       "    <tr>\n",
       "      <th>4</th>\n",
       "      <td>7.4</td>\n",
       "      <td>0.70</td>\n",
       "      <td>0.00</td>\n",
       "      <td>1.9</td>\n",
       "      <td>0.076</td>\n",
       "      <td>11.0</td>\n",
       "      <td>34.0</td>\n",
       "      <td>0.9978</td>\n",
       "      <td>3.51</td>\n",
       "      <td>0.56</td>\n",
       "      <td>9.4</td>\n",
       "      <td>5</td>\n",
       "      <td>W</td>\n",
       "    </tr>\n",
       "  </tbody>\n",
       "</table>\n",
       "</div>"
      ],
      "text/plain": [
       "   fixed_acidity  volatile_acidity  citric_acid  residual_sugar  chlorides  \\\n",
       "0            7.4              0.70         0.00             1.9      0.076   \n",
       "1            7.8              0.88         0.00             2.6      0.098   \n",
       "2            7.8              0.76         0.04             2.3      0.092   \n",
       "3           11.2              0.28         0.56             1.9      0.075   \n",
       "4            7.4              0.70         0.00             1.9      0.076   \n",
       "\n",
       "   free_sulfur_dioxide  total_sulfur_dioxide  density    pH  sulphates  \\\n",
       "0                 11.0                  34.0   0.9978  3.51       0.56   \n",
       "1                 25.0                  67.0   0.9968  3.20       0.68   \n",
       "2                 15.0                  54.0   0.9970  3.26       0.65   \n",
       "3                 17.0                  60.0   0.9980  3.16       0.58   \n",
       "4                 11.0                  34.0   0.9978  3.51       0.56   \n",
       "\n",
       "   alcohol  quality type  \n",
       "0      9.4        5    W  \n",
       "1      9.8        5    W  \n",
       "2      9.8        5    W  \n",
       "3      9.8        6    W  \n",
       "4      9.4        5    W  "
      ]
     },
     "execution_count": 18,
     "metadata": {},
     "output_type": "execute_result"
    }
   ],
   "source": [
    "# Show dataset description\n",
    "obs.head()"
   ]
  },
  {
   "cell_type": "code",
   "execution_count": 19,
   "metadata": {},
   "outputs": [],
   "source": [
    "# Drop duplicate measurements -- makes sense in this case, since measurements \n",
    "# with identical rows would imply identical wines (at least in composition),\n",
    "# which would be double counted in the dataset\n",
    "obs = obs.drop_duplicates()"
   ]
  },
  {
   "cell_type": "markdown",
   "metadata": {},
   "source": [
    "---\n",
    "## Data science tools \n",
    "\n",
    "This section covers exercises on data handling using pandas.DataFrames.\n",
    "###### 1. How many observations have been collected and how many features are listed per observation? "
   ]
  },
  {
   "cell_type": "code",
   "execution_count": 20,
   "metadata": {},
   "outputs": [
    {
     "data": {
      "text/plain": [
       "(5320, 13)"
      ]
     },
     "execution_count": 20,
     "metadata": {},
     "output_type": "execute_result"
    }
   ],
   "source": [
    "obs.shape"
   ]
  },
  {
   "cell_type": "code",
   "execution_count": 21,
   "metadata": {},
   "outputs": [
    {
     "data": {
      "text/html": [
       "<div>\n",
       "<style scoped>\n",
       "    .dataframe tbody tr th:only-of-type {\n",
       "        vertical-align: middle;\n",
       "    }\n",
       "\n",
       "    .dataframe tbody tr th {\n",
       "        vertical-align: top;\n",
       "    }\n",
       "\n",
       "    .dataframe thead th {\n",
       "        text-align: right;\n",
       "    }\n",
       "</style>\n",
       "<table border=\"1\" class=\"dataframe\">\n",
       "  <thead>\n",
       "    <tr style=\"text-align: right;\">\n",
       "      <th></th>\n",
       "      <th>fixed_acidity</th>\n",
       "      <th>volatile_acidity</th>\n",
       "      <th>citric_acid</th>\n",
       "      <th>residual_sugar</th>\n",
       "      <th>chlorides</th>\n",
       "      <th>free_sulfur_dioxide</th>\n",
       "      <th>total_sulfur_dioxide</th>\n",
       "      <th>density</th>\n",
       "      <th>pH</th>\n",
       "      <th>sulphates</th>\n",
       "      <th>alcohol</th>\n",
       "      <th>quality</th>\n",
       "      <th>type</th>\n",
       "    </tr>\n",
       "  </thead>\n",
       "  <tbody>\n",
       "    <tr>\n",
       "      <th>0</th>\n",
       "      <td>7.4</td>\n",
       "      <td>0.70</td>\n",
       "      <td>0.00</td>\n",
       "      <td>1.9</td>\n",
       "      <td>0.076</td>\n",
       "      <td>11.0</td>\n",
       "      <td>34.0</td>\n",
       "      <td>0.9978</td>\n",
       "      <td>3.51</td>\n",
       "      <td>0.56</td>\n",
       "      <td>9.4</td>\n",
       "      <td>5</td>\n",
       "      <td>W</td>\n",
       "    </tr>\n",
       "    <tr>\n",
       "      <th>1</th>\n",
       "      <td>7.8</td>\n",
       "      <td>0.88</td>\n",
       "      <td>0.00</td>\n",
       "      <td>2.6</td>\n",
       "      <td>0.098</td>\n",
       "      <td>25.0</td>\n",
       "      <td>67.0</td>\n",
       "      <td>0.9968</td>\n",
       "      <td>3.20</td>\n",
       "      <td>0.68</td>\n",
       "      <td>9.8</td>\n",
       "      <td>5</td>\n",
       "      <td>W</td>\n",
       "    </tr>\n",
       "    <tr>\n",
       "      <th>2</th>\n",
       "      <td>7.8</td>\n",
       "      <td>0.76</td>\n",
       "      <td>0.04</td>\n",
       "      <td>2.3</td>\n",
       "      <td>0.092</td>\n",
       "      <td>15.0</td>\n",
       "      <td>54.0</td>\n",
       "      <td>0.9970</td>\n",
       "      <td>3.26</td>\n",
       "      <td>0.65</td>\n",
       "      <td>9.8</td>\n",
       "      <td>5</td>\n",
       "      <td>W</td>\n",
       "    </tr>\n",
       "    <tr>\n",
       "      <th>3</th>\n",
       "      <td>11.2</td>\n",
       "      <td>0.28</td>\n",
       "      <td>0.56</td>\n",
       "      <td>1.9</td>\n",
       "      <td>0.075</td>\n",
       "      <td>17.0</td>\n",
       "      <td>60.0</td>\n",
       "      <td>0.9980</td>\n",
       "      <td>3.16</td>\n",
       "      <td>0.58</td>\n",
       "      <td>9.8</td>\n",
       "      <td>6</td>\n",
       "      <td>W</td>\n",
       "    </tr>\n",
       "    <tr>\n",
       "      <th>5</th>\n",
       "      <td>7.4</td>\n",
       "      <td>0.66</td>\n",
       "      <td>0.00</td>\n",
       "      <td>1.8</td>\n",
       "      <td>0.075</td>\n",
       "      <td>13.0</td>\n",
       "      <td>40.0</td>\n",
       "      <td>0.9978</td>\n",
       "      <td>3.51</td>\n",
       "      <td>0.56</td>\n",
       "      <td>9.4</td>\n",
       "      <td>5</td>\n",
       "      <td>W</td>\n",
       "    </tr>\n",
       "  </tbody>\n",
       "</table>\n",
       "</div>"
      ],
      "text/plain": [
       "   fixed_acidity  volatile_acidity  citric_acid  residual_sugar  chlorides  \\\n",
       "0            7.4              0.70         0.00             1.9      0.076   \n",
       "1            7.8              0.88         0.00             2.6      0.098   \n",
       "2            7.8              0.76         0.04             2.3      0.092   \n",
       "3           11.2              0.28         0.56             1.9      0.075   \n",
       "5            7.4              0.66         0.00             1.8      0.075   \n",
       "\n",
       "   free_sulfur_dioxide  total_sulfur_dioxide  density    pH  sulphates  \\\n",
       "0                 11.0                  34.0   0.9978  3.51       0.56   \n",
       "1                 25.0                  67.0   0.9968  3.20       0.68   \n",
       "2                 15.0                  54.0   0.9970  3.26       0.65   \n",
       "3                 17.0                  60.0   0.9980  3.16       0.58   \n",
       "5                 13.0                  40.0   0.9978  3.51       0.56   \n",
       "\n",
       "   alcohol  quality type  \n",
       "0      9.4        5    W  \n",
       "1      9.8        5    W  \n",
       "2      9.8        5    W  \n",
       "3      9.8        6    W  \n",
       "5      9.4        5    W  "
      ]
     },
     "execution_count": 21,
     "metadata": {},
     "output_type": "execute_result"
    }
   ],
   "source": [
    "obs.head()"
   ]
  },
  {
   "cell_type": "markdown",
   "metadata": {},
   "source": [
    "###### 2. How may wines are of each type, Red  and White?"
   ]
  },
  {
   "cell_type": "code",
   "execution_count": 22,
   "metadata": {},
   "outputs": [
    {
     "data": {
      "text/html": [
       "<div>\n",
       "<style scoped>\n",
       "    .dataframe tbody tr th:only-of-type {\n",
       "        vertical-align: middle;\n",
       "    }\n",
       "\n",
       "    .dataframe tbody tr th {\n",
       "        vertical-align: top;\n",
       "    }\n",
       "\n",
       "    .dataframe thead th {\n",
       "        text-align: right;\n",
       "    }\n",
       "</style>\n",
       "<table border=\"1\" class=\"dataframe\">\n",
       "  <thead>\n",
       "    <tr style=\"text-align: right;\">\n",
       "      <th></th>\n",
       "      <th>fixed_acidity</th>\n",
       "      <th>volatile_acidity</th>\n",
       "      <th>citric_acid</th>\n",
       "      <th>residual_sugar</th>\n",
       "      <th>chlorides</th>\n",
       "      <th>free_sulfur_dioxide</th>\n",
       "      <th>total_sulfur_dioxide</th>\n",
       "      <th>density</th>\n",
       "      <th>pH</th>\n",
       "      <th>sulphates</th>\n",
       "      <th>alcohol</th>\n",
       "      <th>quality</th>\n",
       "    </tr>\n",
       "    <tr>\n",
       "      <th>type</th>\n",
       "      <th></th>\n",
       "      <th></th>\n",
       "      <th></th>\n",
       "      <th></th>\n",
       "      <th></th>\n",
       "      <th></th>\n",
       "      <th></th>\n",
       "      <th></th>\n",
       "      <th></th>\n",
       "      <th></th>\n",
       "      <th></th>\n",
       "      <th></th>\n",
       "    </tr>\n",
       "  </thead>\n",
       "  <tbody>\n",
       "    <tr>\n",
       "      <th>R</th>\n",
       "      <td>3961</td>\n",
       "      <td>3961</td>\n",
       "      <td>3961</td>\n",
       "      <td>3961</td>\n",
       "      <td>3961</td>\n",
       "      <td>3961</td>\n",
       "      <td>3961</td>\n",
       "      <td>3961</td>\n",
       "      <td>3961</td>\n",
       "      <td>3961</td>\n",
       "      <td>3961</td>\n",
       "      <td>3961</td>\n",
       "    </tr>\n",
       "    <tr>\n",
       "      <th>W</th>\n",
       "      <td>1359</td>\n",
       "      <td>1359</td>\n",
       "      <td>1359</td>\n",
       "      <td>1359</td>\n",
       "      <td>1359</td>\n",
       "      <td>1359</td>\n",
       "      <td>1359</td>\n",
       "      <td>1359</td>\n",
       "      <td>1359</td>\n",
       "      <td>1359</td>\n",
       "      <td>1359</td>\n",
       "      <td>1359</td>\n",
       "    </tr>\n",
       "  </tbody>\n",
       "</table>\n",
       "</div>"
      ],
      "text/plain": [
       "      fixed_acidity  volatile_acidity  citric_acid  residual_sugar  chlorides  \\\n",
       "type                                                                            \n",
       "R              3961              3961         3961            3961       3961   \n",
       "W              1359              1359         1359            1359       1359   \n",
       "\n",
       "      free_sulfur_dioxide  total_sulfur_dioxide  density    pH  sulphates  \\\n",
       "type                                                                        \n",
       "R                    3961                  3961     3961  3961       3961   \n",
       "W                    1359                  1359     1359  1359       1359   \n",
       "\n",
       "      alcohol  quality  \n",
       "type                    \n",
       "R        3961     3961  \n",
       "W        1359     1359  "
      ]
     },
     "execution_count": 22,
     "metadata": {},
     "output_type": "execute_result"
    }
   ],
   "source": [
    "obs.groupby('type').count()"
   ]
  },
  {
   "cell_type": "markdown",
   "metadata": {},
   "source": [
    "###### 3. What are the minimum and maximum wine qualities in the dataset ? \n"
   ]
  },
  {
   "cell_type": "code",
   "execution_count": 23,
   "metadata": {},
   "outputs": [
    {
     "name": "stdout",
     "output_type": "stream",
     "text": [
      "minimum is 3 and maximum is 9\n"
     ]
    }
   ],
   "source": [
    "print(\"minimum is\", obs.quality.min(), \"and maximum is\", obs.quality.max())\n"
   ]
  },
  {
   "cell_type": "markdown",
   "metadata": {},
   "source": [
    "###### 4. Which type of wine (red or white) has the higher score on average ? \n",
    "_Hints:_\n",
    "1. Group the data by type, ie, white and red wine\n",
    "2. Get the mean of the quality for each type\n"
   ]
  },
  {
   "cell_type": "code",
   "execution_count": 40,
   "metadata": {},
   "outputs": [
    {
     "data": {
      "text/plain": [
       "type\n",
       "R    5.854835\n",
       "W    5.623252\n",
       "Name: quality, dtype: float64"
      ]
     },
     "execution_count": 40,
     "metadata": {},
     "output_type": "execute_result"
    }
   ],
   "source": [
    "obs.groupby('type')['quality'].mean()\n"
   ]
  },
  {
   "cell_type": "markdown",
   "metadata": {},
   "source": [
    "#### 5. How many measurements are there for each quality value per wine type?\n",
    "Hits:\n",
    "- group the data by type and quality\n",
    "- count the values in each group\n",
    "\n"
   ]
  },
  {
   "cell_type": "code",
   "execution_count": 60,
   "metadata": {},
   "outputs": [
    {
     "data": {
      "text/html": [
       "<div>\n",
       "<style scoped>\n",
       "    .dataframe tbody tr th:only-of-type {\n",
       "        vertical-align: middle;\n",
       "    }\n",
       "\n",
       "    .dataframe tbody tr th {\n",
       "        vertical-align: top;\n",
       "    }\n",
       "\n",
       "    .dataframe thead th {\n",
       "        text-align: right;\n",
       "    }\n",
       "</style>\n",
       "<table border=\"1\" class=\"dataframe\">\n",
       "  <thead>\n",
       "    <tr style=\"text-align: right;\">\n",
       "      <th></th>\n",
       "      <th></th>\n",
       "      <th>fixed_acidity</th>\n",
       "      <th>volatile_acidity</th>\n",
       "      <th>citric_acid</th>\n",
       "      <th>residual_sugar</th>\n",
       "      <th>chlorides</th>\n",
       "      <th>free_sulfur_dioxide</th>\n",
       "      <th>total_sulfur_dioxide</th>\n",
       "      <th>density</th>\n",
       "      <th>pH</th>\n",
       "      <th>sulphates</th>\n",
       "      <th>alcohol</th>\n",
       "    </tr>\n",
       "    <tr>\n",
       "      <th>quality</th>\n",
       "      <th>type</th>\n",
       "      <th></th>\n",
       "      <th></th>\n",
       "      <th></th>\n",
       "      <th></th>\n",
       "      <th></th>\n",
       "      <th></th>\n",
       "      <th></th>\n",
       "      <th></th>\n",
       "      <th></th>\n",
       "      <th></th>\n",
       "      <th></th>\n",
       "    </tr>\n",
       "  </thead>\n",
       "  <tbody>\n",
       "    <tr>\n",
       "      <th rowspan=\"2\" valign=\"top\">3</th>\n",
       "      <th>R</th>\n",
       "      <td>20</td>\n",
       "      <td>20</td>\n",
       "      <td>20</td>\n",
       "      <td>20</td>\n",
       "      <td>20</td>\n",
       "      <td>20</td>\n",
       "      <td>20</td>\n",
       "      <td>20</td>\n",
       "      <td>20</td>\n",
       "      <td>20</td>\n",
       "      <td>20</td>\n",
       "    </tr>\n",
       "    <tr>\n",
       "      <th>W</th>\n",
       "      <td>10</td>\n",
       "      <td>10</td>\n",
       "      <td>10</td>\n",
       "      <td>10</td>\n",
       "      <td>10</td>\n",
       "      <td>10</td>\n",
       "      <td>10</td>\n",
       "      <td>10</td>\n",
       "      <td>10</td>\n",
       "      <td>10</td>\n",
       "      <td>10</td>\n",
       "    </tr>\n",
       "    <tr>\n",
       "      <th rowspan=\"2\" valign=\"top\">4</th>\n",
       "      <th>R</th>\n",
       "      <td>153</td>\n",
       "      <td>153</td>\n",
       "      <td>153</td>\n",
       "      <td>153</td>\n",
       "      <td>153</td>\n",
       "      <td>153</td>\n",
       "      <td>153</td>\n",
       "      <td>153</td>\n",
       "      <td>153</td>\n",
       "      <td>153</td>\n",
       "      <td>153</td>\n",
       "    </tr>\n",
       "    <tr>\n",
       "      <th>W</th>\n",
       "      <td>53</td>\n",
       "      <td>53</td>\n",
       "      <td>53</td>\n",
       "      <td>53</td>\n",
       "      <td>53</td>\n",
       "      <td>53</td>\n",
       "      <td>53</td>\n",
       "      <td>53</td>\n",
       "      <td>53</td>\n",
       "      <td>53</td>\n",
       "      <td>53</td>\n",
       "    </tr>\n",
       "    <tr>\n",
       "      <th rowspan=\"2\" valign=\"top\">5</th>\n",
       "      <th>R</th>\n",
       "      <td>1175</td>\n",
       "      <td>1175</td>\n",
       "      <td>1175</td>\n",
       "      <td>1175</td>\n",
       "      <td>1175</td>\n",
       "      <td>1175</td>\n",
       "      <td>1175</td>\n",
       "      <td>1175</td>\n",
       "      <td>1175</td>\n",
       "      <td>1175</td>\n",
       "      <td>1175</td>\n",
       "    </tr>\n",
       "    <tr>\n",
       "      <th>W</th>\n",
       "      <td>577</td>\n",
       "      <td>577</td>\n",
       "      <td>577</td>\n",
       "      <td>577</td>\n",
       "      <td>577</td>\n",
       "      <td>577</td>\n",
       "      <td>577</td>\n",
       "      <td>577</td>\n",
       "      <td>577</td>\n",
       "      <td>577</td>\n",
       "      <td>577</td>\n",
       "    </tr>\n",
       "    <tr>\n",
       "      <th rowspan=\"2\" valign=\"top\">6</th>\n",
       "      <th>R</th>\n",
       "      <td>1788</td>\n",
       "      <td>1788</td>\n",
       "      <td>1788</td>\n",
       "      <td>1788</td>\n",
       "      <td>1788</td>\n",
       "      <td>1788</td>\n",
       "      <td>1788</td>\n",
       "      <td>1788</td>\n",
       "      <td>1788</td>\n",
       "      <td>1788</td>\n",
       "      <td>1788</td>\n",
       "    </tr>\n",
       "    <tr>\n",
       "      <th>W</th>\n",
       "      <td>535</td>\n",
       "      <td>535</td>\n",
       "      <td>535</td>\n",
       "      <td>535</td>\n",
       "      <td>535</td>\n",
       "      <td>535</td>\n",
       "      <td>535</td>\n",
       "      <td>535</td>\n",
       "      <td>535</td>\n",
       "      <td>535</td>\n",
       "      <td>535</td>\n",
       "    </tr>\n",
       "    <tr>\n",
       "      <th rowspan=\"2\" valign=\"top\">7</th>\n",
       "      <th>R</th>\n",
       "      <td>689</td>\n",
       "      <td>689</td>\n",
       "      <td>689</td>\n",
       "      <td>689</td>\n",
       "      <td>689</td>\n",
       "      <td>689</td>\n",
       "      <td>689</td>\n",
       "      <td>689</td>\n",
       "      <td>689</td>\n",
       "      <td>689</td>\n",
       "      <td>689</td>\n",
       "    </tr>\n",
       "    <tr>\n",
       "      <th>W</th>\n",
       "      <td>167</td>\n",
       "      <td>167</td>\n",
       "      <td>167</td>\n",
       "      <td>167</td>\n",
       "      <td>167</td>\n",
       "      <td>167</td>\n",
       "      <td>167</td>\n",
       "      <td>167</td>\n",
       "      <td>167</td>\n",
       "      <td>167</td>\n",
       "      <td>167</td>\n",
       "    </tr>\n",
       "    <tr>\n",
       "      <th rowspan=\"2\" valign=\"top\">8</th>\n",
       "      <th>R</th>\n",
       "      <td>131</td>\n",
       "      <td>131</td>\n",
       "      <td>131</td>\n",
       "      <td>131</td>\n",
       "      <td>131</td>\n",
       "      <td>131</td>\n",
       "      <td>131</td>\n",
       "      <td>131</td>\n",
       "      <td>131</td>\n",
       "      <td>131</td>\n",
       "      <td>131</td>\n",
       "    </tr>\n",
       "    <tr>\n",
       "      <th>W</th>\n",
       "      <td>17</td>\n",
       "      <td>17</td>\n",
       "      <td>17</td>\n",
       "      <td>17</td>\n",
       "      <td>17</td>\n",
       "      <td>17</td>\n",
       "      <td>17</td>\n",
       "      <td>17</td>\n",
       "      <td>17</td>\n",
       "      <td>17</td>\n",
       "      <td>17</td>\n",
       "    </tr>\n",
       "    <tr>\n",
       "      <th>9</th>\n",
       "      <th>R</th>\n",
       "      <td>5</td>\n",
       "      <td>5</td>\n",
       "      <td>5</td>\n",
       "      <td>5</td>\n",
       "      <td>5</td>\n",
       "      <td>5</td>\n",
       "      <td>5</td>\n",
       "      <td>5</td>\n",
       "      <td>5</td>\n",
       "      <td>5</td>\n",
       "      <td>5</td>\n",
       "    </tr>\n",
       "  </tbody>\n",
       "</table>\n",
       "</div>"
      ],
      "text/plain": [
       "              fixed_acidity  volatile_acidity  citric_acid  residual_sugar  \\\n",
       "quality type                                                                 \n",
       "3       R                20                20           20              20   \n",
       "        W                10                10           10              10   \n",
       "4       R               153               153          153             153   \n",
       "        W                53                53           53              53   \n",
       "5       R              1175              1175         1175            1175   \n",
       "        W               577               577          577             577   \n",
       "6       R              1788              1788         1788            1788   \n",
       "        W               535               535          535             535   \n",
       "7       R               689               689          689             689   \n",
       "        W               167               167          167             167   \n",
       "8       R               131               131          131             131   \n",
       "        W                17                17           17              17   \n",
       "9       R                 5                 5            5               5   \n",
       "\n",
       "              chlorides  free_sulfur_dioxide  total_sulfur_dioxide  density  \\\n",
       "quality type                                                                  \n",
       "3       R            20                   20                    20       20   \n",
       "        W            10                   10                    10       10   \n",
       "4       R           153                  153                   153      153   \n",
       "        W            53                   53                    53       53   \n",
       "5       R          1175                 1175                  1175     1175   \n",
       "        W           577                  577                   577      577   \n",
       "6       R          1788                 1788                  1788     1788   \n",
       "        W           535                  535                   535      535   \n",
       "7       R           689                  689                   689      689   \n",
       "        W           167                  167                   167      167   \n",
       "8       R           131                  131                   131      131   \n",
       "        W            17                   17                    17       17   \n",
       "9       R             5                    5                     5        5   \n",
       "\n",
       "                pH  sulphates  alcohol  \n",
       "quality type                            \n",
       "3       R       20         20       20  \n",
       "        W       10         10       10  \n",
       "4       R      153        153      153  \n",
       "        W       53         53       53  \n",
       "5       R     1175       1175     1175  \n",
       "        W      577        577      577  \n",
       "6       R     1788       1788     1788  \n",
       "        W      535        535      535  \n",
       "7       R      689        689      689  \n",
       "        W      167        167      167  \n",
       "8       R      131        131      131  \n",
       "        W       17         17       17  \n",
       "9       R        5          5        5  "
      ]
     },
     "execution_count": 60,
     "metadata": {},
     "output_type": "execute_result"
    }
   ],
   "source": [
    "obs.groupby([\"quality\", 'type']).count()"
   ]
  },
  {
   "cell_type": "markdown",
   "metadata": {},
   "source": [
    "#### 6. Data preperation\n",
    "\n",
    "From the investigation above we can see varying statistics between the red and white wines. Lets prepare the data in such a way that we define good and bad quality wines based on the median value of each wine type.\n",
    "\n",
    "Make two datasets named `white` and `red` by doing the following\n",
    "\n",
    "1. goup the data into Red and White wine\n",
    "2. find the median values of quality for red and white wines seperately\n",
    "3. create a new quality variable `good_qual` which is 0 for bad (less than the median) and 1 for good (more than or equal to the median)\n",
    "4. drop columns `quality` and `type` from the datasets as they are no longer needed. Use the `drop` method\n"
   ]
  },
  {
   "cell_type": "code",
   "execution_count": 134,
   "metadata": {},
   "outputs": [
    {
     "name": "stderr",
     "output_type": "stream",
     "text": [
      "/var/folders/hq/z2yghcf51g3dbytktxcw5nnc0000gn/T/ipykernel_68232/818465647.py:22: SettingWithCopyWarning: \n",
      "A value is trying to be set on a copy of a slice from a DataFrame.\n",
      "Try using .loc[row_indexer,col_indexer] = value instead\n",
      "\n",
      "See the caveats in the documentation: https://pandas.pydata.org/pandas-docs/stable/user_guide/indexing.html#returning-a-view-versus-a-copy\n",
      "  white['good_quality'] = gqw\n",
      "/var/folders/hq/z2yghcf51g3dbytktxcw5nnc0000gn/T/ipykernel_68232/818465647.py:23: SettingWithCopyWarning: \n",
      "A value is trying to be set on a copy of a slice from a DataFrame.\n",
      "Try using .loc[row_indexer,col_indexer] = value instead\n",
      "\n",
      "See the caveats in the documentation: https://pandas.pydata.org/pandas-docs/stable/user_guide/indexing.html#returning-a-view-versus-a-copy\n",
      "  red ['good_quality'] = gqr\n"
     ]
    }
   ],
   "source": [
    "white = obs[obs['type'] == 'W']\n",
    "red = obs[obs['type'] == 'R']\n",
    "red_med = red['quality'].median()\n",
    "white_med = white['quality'].median()\n",
    "gqr=[]\n",
    "for i in red.quality:\n",
    "    if i < red_med:\n",
    "        gqr.append(0) \n",
    "    else:\n",
    "        gqr.append(1)\n",
    "gqw = []\n",
    "for i in white.quality:\n",
    "    if i < white_med:\n",
    "        gqw.append(0) \n",
    "    else:\n",
    "        gqw.append(1)\n",
    "\n",
    "white.shape\n",
    "gqr = np.array(gqr)\n",
    "gqw = np.array(gqw)\n",
    "\n",
    "white['good_quality'] = gqw\n",
    "red ['good_quality'] = gqr\n",
    "\n"
   ]
  },
  {
   "cell_type": "code",
   "execution_count": 145,
   "metadata": {},
   "outputs": [],
   "source": [
    "\n",
    "red = red.drop(['type', 'quality'], axis = 1)"
   ]
  },
  {
   "cell_type": "code",
   "execution_count": 95,
   "metadata": {},
   "outputs": [
    {
     "name": "stdout",
     "output_type": "stream",
     "text": [
      "(3961, 12) (1359, 12)\n"
     ]
    }
   ],
   "source": [
    "print (red.shape, white.shape)"
   ]
  },
  {
   "cell_type": "markdown",
   "metadata": {},
   "source": [
    "---\n",
    "## From here on we will be focusing on the **red** wine dataset\n",
    "\n",
    "--------------------------------------------------------\n",
    "###### 7.  Use the describe method to show statistics per good/bad wine in the red wine dataset for alcohol and sulphates"
   ]
  },
  {
   "cell_type": "code",
   "execution_count": 135,
   "metadata": {},
   "outputs": [
    {
     "data": {
      "text/html": [
       "<div>\n",
       "<style scoped>\n",
       "    .dataframe tbody tr th:only-of-type {\n",
       "        vertical-align: middle;\n",
       "    }\n",
       "\n",
       "    .dataframe tbody tr th {\n",
       "        vertical-align: top;\n",
       "    }\n",
       "\n",
       "    .dataframe thead tr th {\n",
       "        text-align: left;\n",
       "    }\n",
       "\n",
       "    .dataframe thead tr:last-of-type th {\n",
       "        text-align: right;\n",
       "    }\n",
       "</style>\n",
       "<table border=\"1\" class=\"dataframe\">\n",
       "  <thead>\n",
       "    <tr>\n",
       "      <th></th>\n",
       "      <th colspan=\"8\" halign=\"left\">alcohol</th>\n",
       "      <th colspan=\"8\" halign=\"left\">sulphates</th>\n",
       "    </tr>\n",
       "    <tr>\n",
       "      <th></th>\n",
       "      <th>count</th>\n",
       "      <th>mean</th>\n",
       "      <th>std</th>\n",
       "      <th>min</th>\n",
       "      <th>25%</th>\n",
       "      <th>50%</th>\n",
       "      <th>75%</th>\n",
       "      <th>max</th>\n",
       "      <th>count</th>\n",
       "      <th>mean</th>\n",
       "      <th>std</th>\n",
       "      <th>min</th>\n",
       "      <th>25%</th>\n",
       "      <th>50%</th>\n",
       "      <th>75%</th>\n",
       "      <th>max</th>\n",
       "    </tr>\n",
       "    <tr>\n",
       "      <th>good_quality</th>\n",
       "      <th></th>\n",
       "      <th></th>\n",
       "      <th></th>\n",
       "      <th></th>\n",
       "      <th></th>\n",
       "      <th></th>\n",
       "      <th></th>\n",
       "      <th></th>\n",
       "      <th></th>\n",
       "      <th></th>\n",
       "      <th></th>\n",
       "      <th></th>\n",
       "      <th></th>\n",
       "      <th></th>\n",
       "      <th></th>\n",
       "      <th></th>\n",
       "    </tr>\n",
       "  </thead>\n",
       "  <tbody>\n",
       "    <tr>\n",
       "      <th>0</th>\n",
       "      <td>1348.0</td>\n",
       "      <td>9.909172</td>\n",
       "      <td>0.895594</td>\n",
       "      <td>8.0</td>\n",
       "      <td>9.2</td>\n",
       "      <td>9.7</td>\n",
       "      <td>10.5</td>\n",
       "      <td>13.6</td>\n",
       "      <td>1348.0</td>\n",
       "      <td>0.481825</td>\n",
       "      <td>0.100946</td>\n",
       "      <td>0.25</td>\n",
       "      <td>0.41</td>\n",
       "      <td>0.47</td>\n",
       "      <td>0.53</td>\n",
       "      <td>0.88</td>\n",
       "    </tr>\n",
       "    <tr>\n",
       "      <th>1</th>\n",
       "      <td>2613.0</td>\n",
       "      <td>10.940254</td>\n",
       "      <td>1.212499</td>\n",
       "      <td>8.5</td>\n",
       "      <td>10.0</td>\n",
       "      <td>10.9</td>\n",
       "      <td>12.0</td>\n",
       "      <td>14.2</td>\n",
       "      <td>2613.0</td>\n",
       "      <td>0.494749</td>\n",
       "      <td>0.119275</td>\n",
       "      <td>0.22</td>\n",
       "      <td>0.41</td>\n",
       "      <td>0.48</td>\n",
       "      <td>0.56</td>\n",
       "      <td>1.08</td>\n",
       "    </tr>\n",
       "  </tbody>\n",
       "</table>\n",
       "</div>"
      ],
      "text/plain": [
       "             alcohol                                                    \\\n",
       "               count       mean       std  min   25%   50%   75%   max   \n",
       "good_quality                                                             \n",
       "0             1348.0   9.909172  0.895594  8.0   9.2   9.7  10.5  13.6   \n",
       "1             2613.0  10.940254  1.212499  8.5  10.0  10.9  12.0  14.2   \n",
       "\n",
       "             sulphates                                                    \n",
       "                 count      mean       std   min   25%   50%   75%   max  \n",
       "good_quality                                                              \n",
       "0               1348.0  0.481825  0.100946  0.25  0.41  0.47  0.53  0.88  \n",
       "1               2613.0  0.494749  0.119275  0.22  0.41  0.48  0.56  1.08  "
      ]
     },
     "execution_count": 135,
     "metadata": {},
     "output_type": "execute_result"
    }
   ],
   "source": [
    "red.groupby('good_quality')[['alcohol','sulphates']].describe()"
   ]
  },
  {
   "cell_type": "markdown",
   "metadata": {},
   "source": [
    "---\n",
    "## Visualisation \n",
    "---\n",
    "This section covers 2 exercises on visualisation using `matplotlib.pyplot`. "
   ]
  },
  {
   "cell_type": "markdown",
   "metadata": {},
   "source": [
    "###### 8 Make a correlation plot of all the features in the red wine dataset\n",
    "- Use the porvided colormap\n",
    "- Use the sns.heatmap function as shown in the lecture\n",
    "- set the tick labels to represent the feature names\n"
   ]
  },
  {
   "cell_type": "code",
   "execution_count": 103,
   "metadata": {},
   "outputs": [],
   "source": [
    "# Use the following courmap in as the cmap parameter of sns.heatmap:\n",
    "colormap = sns.diverging_palette(220, 10, as_cmap=True)"
   ]
  },
  {
   "cell_type": "code",
   "execution_count": 170,
   "metadata": {},
   "outputs": [],
   "source": [
    "import seaborn as sns\n",
    "import matplotlib.pyplot as plt\n",
    "corr = red.corr()\n",
    "plt.figure(figsize=(12, 10))  # Optional: adjust size\n",
    "sns.heatmap(corr,\n",
    "            annot=True,           # show correlation values\n",
    "            cmap=colormap,      # use your provided colormap\n",
    "            xticklabels=red.columns,\n",
    "            yticklabels=red.columns,\n",
    "            square=True)\n",
    "plt.title(\"Correlation Heatmap of Red Wine Features\")\n",
    "#plt.show()"
   ]
  },
  {
   "cell_type": "markdown",
   "metadata": {},
   "source": [
    "##### 9 Pick the top five most correlated features to chlorides and make a pairplot split by good_qual\n",
    "\n",
    "- Do not include \"good_qual\" in the calculation of most correlated\n",
    "- Negative and positive correlations both show strong correlation (or anti correlation). Use the ablsolute value to pick the most correlated features"
   ]
  },
  {
   "cell_type": "code",
   "execution_count": 168,
   "metadata": {},
   "outputs": [],
   "source": [
    "correlations = red.drop('good_quality', axis = 1).corr()\n",
    "chlorides_corr = correlations['chlorides'].abs()\n",
    "top_five_chlorides = chlorides_corr.drop('chlorides').nlargest(5).index.tolist() #creates a list of 5 top correlated features to chlorides\n",
    "plot_data = red[top_five_chlorides + ['good_quality']]\n",
    "sns.pairplot(plot_data, hue = 'good_quality')"
   ]
  },
  {
   "cell_type": "code",
   "execution_count": 122,
   "metadata": {
    "scrolled": true
   },
   "outputs": [],
   "source": [
    "abscorr = corr.copy()\n",
    "abscorr['chlorides'] = abscorr['chlorides'].abs()"
   ]
  },
  {
   "cell_type": "code",
   "execution_count": 165,
   "metadata": {},
   "outputs": [],
   "source": [
    "most_correlated = series.idxmax()"
   ]
  },
  {
   "cell_type": "markdown",
   "metadata": {},
   "source": [
    "#### 8. Make a scatter plot of the two most correlated features.\n",
    "Example solution:\n",
    "\n",
    "- Find the two most correlated features (well you can read them from the plot above, but try find them yourself by)\n",
    "  - Mask diagonal points in the |correlation| matrix\n",
    "  - Unstack the dataframe into a pandas Series\n",
    "  - sort the values in decending order, then pick the top value (or use idxmax)\n",
    "- Make the scatter plot using the ax.scatter method.\n",
    "  - Make the distributions legible, either by setting the opacity (alpha=...).\n",
    "  - Label X axis, and Y axis including units.\n",
    "  - Include a legend two wine types.\n",
    "- Discuss the figure. Do you think using the both variables to distinguish wine quality is usefull?  \n",
    "\n"
   ]
  },
  {
   "cell_type": "code",
   "execution_count": 153,
   "metadata": {},
   "outputs": [],
   "source": [
    "for i in [0,11]:\n",
    "    corr.iloc[i,i] = np.nan  "
   ]
  },
  {
   "cell_type": "code",
   "execution_count": 163,
   "metadata": {},
   "outputs": [],
   "source": [
    "series = series.sort_values(ascending=False)"
   ]
  },
  {
   "cell_type": "code",
   "execution_count": 166,
   "metadata": {},
   "outputs": [
    {
     "data": {
      "text/plain": [
       "('density', 'residual_sugar')"
      ]
     },
     "execution_count": 166,
     "metadata": {},
     "output_type": "execute_result"
    }
   ],
   "source": [
    "most_correlated"
   ]
  },
  {
   "cell_type": "code",
   "execution_count": 185,
   "metadata": {},
   "outputs": [
    {
     "name": "stderr",
     "output_type": "stream",
     "text": [
      "/var/folders/hq/z2yghcf51g3dbytktxcw5nnc0000gn/T/ipykernel_68232/3544609268.py:19: UserWarning: FigureCanvasAgg is non-interactive, and thus cannot be shown\n",
      "  fig.show()\n"
     ]
    },
    {
     "data": {
      "image/png": "[encoded data removed]",
      "text/plain": [
       "<Figure size 640x480 with 1 Axes>"
      ]
     },
     "metadata": {},
     "output_type": "display_data"
    }
   ],
   "source": [
    "\n",
    "fig, ax = plt.subplots()\n",
    "featx = 'density'\n",
    "featy = 'residual_sugar'\n",
    "for t in [0,1]:\n",
    "    # Boolean mask\n",
    "    if t == 0 :\n",
    "        label = 'bad'  \n",
    "    else: \n",
    "        label = 'good'\n",
    "    mask = red['good_quality'] == t\n",
    "\n",
    "    # Scatter plot for current type\n",
    "    ax.scatter(red[mask][featx], red[mask][featy], label=label, alpha=1)\n",
    "    pass\n",
    "\n",
    "ax.legend()\n",
    "ax.set_xlabel('density')\n",
    "ax.set_ylabel('residual_sugar')\n",
    "fig.show()\n"
   ]
  },
  {
   "cell_type": "code",
   "execution_count": 159,
   "metadata": {},
   "outputs": [],
   "source": [
    "series = corr.unstack()"
   ]
  },
  {
   "cell_type": "code",
   "execution_count": 161,
   "metadata": {},
   "outputs": [
    {
     "data": {
      "text/plain": [
       "np.float64(0.8204983104489302)"
      ]
     },
     "execution_count": 161,
     "metadata": {},
     "output_type": "execute_result"
    }
   ],
   "source": [
    "series.sort_values(ascending = False)[0]"
   ]
  },
  {
   "cell_type": "markdown",
   "metadata": {},
   "source": [
    "#### 9. Prepare a smaller pandas.DataFrame for visualisation and classification \n",
    "\n",
    "In the next sections, on decision trees and ensemble methods, we will try to classify the wine quality --- based on a subset of the available features. We also introduce labels for Poor and Good wines for plotting purposes:\n"
   ]
  },
  {
   "cell_type": "code",
   "execution_count": 226,
   "metadata": {},
   "outputs": [],
   "source": [
    "# define data and features\n",
    "features = ['fixed_acidity', 'volatile_acidity', 'citric_acid', 'residual_sugar',\n",
    "       'chlorides', 'free_sulfur_dioxide', 'total_sulfur_dioxide', 'density',\n",
    "       'pH', 'sulphates', 'alcohol']\n",
    "target   = ['good_quality']\n",
    "wtype = [\"Poor\",\"Good\"]\n"
   ]
  },
  {
   "cell_type": "markdown",
   "metadata": {},
   "source": [
    "\n",
    "#### Therefore:\n",
    "\n",
    "* Create a pandas.DataFrame, called dataset, which contains only the desired features and the target variable;\n",
    "* Drop duplicates and NaN-values;\n",
    "* Shuffle the dataframe;\n",
    "* Create a pandas.DataFrame, called frames, containing the first 1000 observations of the dataset for each class\n",
    "* Create a sample dataset by doing the concat of frames\n",
    "* From sample panda dataframe convert into a numpy array for the inputs (called X) and target (called y);\n",
    "* Flatten the converted y array; and\n",
    "* Check their shapes to make sure they look alright.\n",
    "\n"
   ]
  },
  {
   "cell_type": "code",
   "execution_count": 244,
   "metadata": {},
   "outputs": [],
   "source": [
    "dataset = red[features]\n",
    "dataset['good_quality']= red['good_quality']"
   ]
  },
  {
   "cell_type": "code",
   "execution_count": null,
   "metadata": {},
   "outputs": [],
   "source": []
  },
  {
   "cell_type": "code",
   "execution_count": null,
   "metadata": {},
   "outputs": [],
   "source": []
  },
  {
   "cell_type": "code",
   "execution_count": 245,
   "metadata": {},
   "outputs": [],
   "source": [
    "dataset = dataset.drop_duplicates()\n",
    "nan = np.any(np.isnan(dataset), axis=1)\n",
    "dataset  = dataset[~nan]"
   ]
  },
  {
   "cell_type": "code",
   "execution_count": 246,
   "metadata": {},
   "outputs": [],
   "source": [
    "dataset = dataset.sample(frac=1, random_state=42).reset_index(drop=True)"
   ]
  },
  {
   "cell_type": "code",
   "execution_count": 247,
   "metadata": {},
   "outputs": [
    {
     "data": {
      "text/html": [
       "<div>\n",
       "<style scoped>\n",
       "    .dataframe tbody tr th:only-of-type {\n",
       "        vertical-align: middle;\n",
       "    }\n",
       "\n",
       "    .dataframe tbody tr th {\n",
       "        vertical-align: top;\n",
       "    }\n",
       "\n",
       "    .dataframe thead th {\n",
       "        text-align: right;\n",
       "    }\n",
       "</style>\n",
       "<table border=\"1\" class=\"dataframe\">\n",
       "  <thead>\n",
       "    <tr style=\"text-align: right;\">\n",
       "      <th></th>\n",
       "      <th>fixed_acidity</th>\n",
       "      <th>volatile_acidity</th>\n",
       "      <th>citric_acid</th>\n",
       "      <th>residual_sugar</th>\n",
       "      <th>chlorides</th>\n",
       "      <th>free_sulfur_dioxide</th>\n",
       "      <th>total_sulfur_dioxide</th>\n",
       "      <th>density</th>\n",
       "      <th>pH</th>\n",
       "      <th>sulphates</th>\n",
       "      <th>alcohol</th>\n",
       "      <th>good_quality</th>\n",
       "    </tr>\n",
       "  </thead>\n",
       "  <tbody>\n",
       "    <tr>\n",
       "      <th>0</th>\n",
       "      <td>7.2</td>\n",
       "      <td>0.320</td>\n",
       "      <td>0.47</td>\n",
       "      <td>5.10</td>\n",
       "      <td>0.044</td>\n",
       "      <td>19.0</td>\n",
       "      <td>65.0</td>\n",
       "      <td>0.99100</td>\n",
       "      <td>3.03</td>\n",
       "      <td>0.41</td>\n",
       "      <td>12.6</td>\n",
       "      <td>0</td>\n",
       "    </tr>\n",
       "    <tr>\n",
       "      <th>1</th>\n",
       "      <td>9.7</td>\n",
       "      <td>0.240</td>\n",
       "      <td>0.45</td>\n",
       "      <td>1.20</td>\n",
       "      <td>0.033</td>\n",
       "      <td>11.0</td>\n",
       "      <td>59.0</td>\n",
       "      <td>0.99260</td>\n",
       "      <td>2.74</td>\n",
       "      <td>0.47</td>\n",
       "      <td>10.8</td>\n",
       "      <td>1</td>\n",
       "    </tr>\n",
       "    <tr>\n",
       "      <th>2</th>\n",
       "      <td>7.2</td>\n",
       "      <td>0.270</td>\n",
       "      <td>0.74</td>\n",
       "      <td>12.50</td>\n",
       "      <td>0.037</td>\n",
       "      <td>47.0</td>\n",
       "      <td>156.0</td>\n",
       "      <td>0.99810</td>\n",
       "      <td>3.04</td>\n",
       "      <td>0.44</td>\n",
       "      <td>8.7</td>\n",
       "      <td>0</td>\n",
       "    </tr>\n",
       "    <tr>\n",
       "      <th>3</th>\n",
       "      <td>4.8</td>\n",
       "      <td>0.340</td>\n",
       "      <td>0.00</td>\n",
       "      <td>6.50</td>\n",
       "      <td>0.028</td>\n",
       "      <td>33.0</td>\n",
       "      <td>163.0</td>\n",
       "      <td>0.99390</td>\n",
       "      <td>3.36</td>\n",
       "      <td>0.61</td>\n",
       "      <td>9.9</td>\n",
       "      <td>1</td>\n",
       "    </tr>\n",
       "    <tr>\n",
       "      <th>4</th>\n",
       "      <td>5.0</td>\n",
       "      <td>0.170</td>\n",
       "      <td>0.56</td>\n",
       "      <td>1.50</td>\n",
       "      <td>0.026</td>\n",
       "      <td>24.0</td>\n",
       "      <td>115.0</td>\n",
       "      <td>0.99060</td>\n",
       "      <td>3.48</td>\n",
       "      <td>0.39</td>\n",
       "      <td>10.8</td>\n",
       "      <td>1</td>\n",
       "    </tr>\n",
       "    <tr>\n",
       "      <th>5</th>\n",
       "      <td>7.1</td>\n",
       "      <td>0.180</td>\n",
       "      <td>0.42</td>\n",
       "      <td>1.40</td>\n",
       "      <td>0.045</td>\n",
       "      <td>47.0</td>\n",
       "      <td>157.0</td>\n",
       "      <td>0.99160</td>\n",
       "      <td>2.95</td>\n",
       "      <td>0.31</td>\n",
       "      <td>10.5</td>\n",
       "      <td>1</td>\n",
       "    </tr>\n",
       "    <tr>\n",
       "      <th>6</th>\n",
       "      <td>5.9</td>\n",
       "      <td>0.435</td>\n",
       "      <td>0.16</td>\n",
       "      <td>6.40</td>\n",
       "      <td>0.031</td>\n",
       "      <td>21.0</td>\n",
       "      <td>134.0</td>\n",
       "      <td>0.99151</td>\n",
       "      <td>3.24</td>\n",
       "      <td>0.46</td>\n",
       "      <td>12.2</td>\n",
       "      <td>1</td>\n",
       "    </tr>\n",
       "    <tr>\n",
       "      <th>7</th>\n",
       "      <td>7.4</td>\n",
       "      <td>0.260</td>\n",
       "      <td>0.31</td>\n",
       "      <td>7.60</td>\n",
       "      <td>0.047</td>\n",
       "      <td>52.0</td>\n",
       "      <td>177.0</td>\n",
       "      <td>0.99620</td>\n",
       "      <td>3.13</td>\n",
       "      <td>0.45</td>\n",
       "      <td>8.9</td>\n",
       "      <td>1</td>\n",
       "    </tr>\n",
       "    <tr>\n",
       "      <th>8</th>\n",
       "      <td>6.0</td>\n",
       "      <td>0.230</td>\n",
       "      <td>0.15</td>\n",
       "      <td>9.70</td>\n",
       "      <td>0.048</td>\n",
       "      <td>101.0</td>\n",
       "      <td>207.0</td>\n",
       "      <td>0.99571</td>\n",
       "      <td>3.05</td>\n",
       "      <td>0.30</td>\n",
       "      <td>9.1</td>\n",
       "      <td>0</td>\n",
       "    </tr>\n",
       "    <tr>\n",
       "      <th>9</th>\n",
       "      <td>6.1</td>\n",
       "      <td>0.220</td>\n",
       "      <td>0.28</td>\n",
       "      <td>16.55</td>\n",
       "      <td>0.059</td>\n",
       "      <td>54.0</td>\n",
       "      <td>135.0</td>\n",
       "      <td>0.99665</td>\n",
       "      <td>3.20</td>\n",
       "      <td>0.38</td>\n",
       "      <td>10.5</td>\n",
       "      <td>0</td>\n",
       "    </tr>\n",
       "  </tbody>\n",
       "</table>\n",
       "</div>"
      ],
      "text/plain": [
       "   fixed_acidity  volatile_acidity  citric_acid  residual_sugar  chlorides  \\\n",
       "0            7.2             0.320         0.47            5.10      0.044   \n",
       "1            9.7             0.240         0.45            1.20      0.033   \n",
       "2            7.2             0.270         0.74           12.50      0.037   \n",
       "3            4.8             0.340         0.00            6.50      0.028   \n",
       "4            5.0             0.170         0.56            1.50      0.026   \n",
       "5            7.1             0.180         0.42            1.40      0.045   \n",
       "6            5.9             0.435         0.16            6.40      0.031   \n",
       "7            7.4             0.260         0.31            7.60      0.047   \n",
       "8            6.0             0.230         0.15            9.70      0.048   \n",
       "9            6.1             0.220         0.28           16.55      0.059   \n",
       "\n",
       "   free_sulfur_dioxide  total_sulfur_dioxide  density    pH  sulphates  \\\n",
       "0                 19.0                  65.0  0.99100  3.03       0.41   \n",
       "1                 11.0                  59.0  0.99260  2.74       0.47   \n",
       "2                 47.0                 156.0  0.99810  3.04       0.44   \n",
       "3                 33.0                 163.0  0.99390  3.36       0.61   \n",
       "4                 24.0                 115.0  0.99060  3.48       0.39   \n",
       "5                 47.0                 157.0  0.99160  2.95       0.31   \n",
       "6                 21.0                 134.0  0.99151  3.24       0.46   \n",
       "7                 52.0                 177.0  0.99620  3.13       0.45   \n",
       "8                101.0                 207.0  0.99571  3.05       0.30   \n",
       "9                 54.0                 135.0  0.99665  3.20       0.38   \n",
       "\n",
       "   alcohol  good_quality  \n",
       "0     12.6             0  \n",
       "1     10.8             1  \n",
       "2      8.7             0  \n",
       "3      9.9             1  \n",
       "4     10.8             1  \n",
       "5     10.5             1  \n",
       "6     12.2             1  \n",
       "7      8.9             1  \n",
       "8      9.1             0  \n",
       "9     10.5             0  "
      ]
     },
     "execution_count": 247,
     "metadata": {},
     "output_type": "execute_result"
    }
   ],
   "source": [
    "dataset.head(10)"
   ]
  },
  {
   "cell_type": "code",
   "execution_count": 292,
   "metadata": {},
   "outputs": [],
   "source": [
    "frames = []\n",
    "for label in dataset['good_quality'].unique():\n",
    "    subset = dataset[dataset['good_quality'] == label].head(1000)\n",
    "    frames.append(subset)#creates a list of two dataframes, with diff values of quality"
   ]
  },
  {
   "cell_type": "code",
   "execution_count": 293,
   "metadata": {},
   "outputs": [],
   "source": [
    "sample = pd.concat(frames, ignore_index=True)"
   ]
  },
  {
   "cell_type": "code",
   "execution_count": null,
   "metadata": {},
   "outputs": [],
   "source": []
  },
  {
   "cell_type": "code",
   "execution_count": null,
   "metadata": {},
   "outputs": [],
   "source": []
  },
  {
   "cell_type": "code",
   "execution_count": 294,
   "metadata": {
    "scrolled": true
   },
   "outputs": [
    {
     "name": "stdout",
     "output_type": "stream",
     "text": [
      "(2000, 11) (2000,)\n"
     ]
    }
   ],
   "source": [
    "X = sample[features].to_numpy()\n",
    "y = sample['good_quality'].to_numpy().flatten()\n",
    "print( X.shape, y.shape)"
   ]
  },
  {
   "cell_type": "code",
   "execution_count": null,
   "metadata": {},
   "outputs": [],
   "source": []
  },
  {
   "cell_type": "markdown",
   "metadata": {},
   "source": [
    "## Decision tree classification \n",
    "---\n",
    "This section covers 3 exercises on the use and understanding of decision trees and ensemble methods."
   ]
  },
  {
   "cell_type": "markdown",
   "metadata": {},
   "source": [
    "#### 10. Fit a decision tree classifier and plot the decision\n",
    "\n",
    "* Split dataset into training set and test set (x_train, x_test, y_train, y_test)\n",
    "* Create a `sklearn.tree.DecisionTreeClassifier` and set the maximum tree depth to 4, use `entropy` as the quality criterion.\n",
    "* Fit the decision tree classifier\n",
    "* Predict the response for the test and training datasets\n",
    "* Print the accuracy of test and training datasets\n",
    "* Make the decision tree graph and save it in png\n",
    "* Find the important feature in the decision tree (use feature_importances method in the decision tree). Why do you think this feature is of particular importance in distinguishing good and poor wines?"
   ]
  },
  {
   "cell_type": "code",
   "execution_count": 254,
   "metadata": {},
   "outputs": [],
   "source": [
    "from sklearn import tree\n",
    "from sklearn.tree import DecisionTreeClassifier, plot_tree\n",
    "from sklearn.tree import export_graphviz\n",
    "from sklearn.ensemble import GradientBoostingClassifier, RandomForestClassifier, AdaBoostClassifier\n",
    "from sklearn.model_selection import train_test_split # Import train_test_split function\n",
    "from sklearn import metrics # Import scikit-learn metrics module for accuracy calculation\n",
    "from sklearn import preprocessing # Import preprocessing for String-Int conversion"
   ]
  },
  {
   "cell_type": "code",
   "execution_count": 295,
   "metadata": {},
   "outputs": [
    {
     "name": "stdout",
     "output_type": "stream",
     "text": [
      "Accuracy: 0.7033333333333334\n"
     ]
    }
   ],
   "source": [
    "x_train, x_test, y_train, y_test = train_test_split(X, y,test_size=0.3, random_state=1) \n",
    "dt = DecisionTreeClassifier(criterion = 'entropy',max_depth = 4)\n",
    "dt = dt.fit(x_train, y_train)\n",
    "y_pred = dt.predict(x_test)\n",
    "print(\"Accuracy:\",metrics.accuracy_score(y_test, y_pred))"
   ]
  },
  {
   "cell_type": "code",
   "execution_count": 311,
   "metadata": {},
   "outputs": [],
   "source": [
    "save the decision_tree as png\n",
    "fig = plt.figure(figsize=(25,20))\n",
    "_ = tree.plot_tree(dt, \n",
    "                   filled=True,\n",
    "                  feature_names=features, rounded=True, class_names=list(target))\n",
    "fig.savefig(\"decision_tree2.png\")"
   ]
  },
  {
   "cell_type": "markdown",
   "metadata": {},
   "source": [
    "#### 11. Fit a boosted decision tree classifier (1 Mark)\n",
    "\n",
    "\n",
    "* Create a `sklearn.tree.GradientBoostingClassifier` and set the maximum tree depth to 4 and n_estimators to 20.\n",
    "* Fit the boosted decision tree classifier\n",
    "* Predict the response and pring the accuracy for the test and train datasets"
   ]
  },
  {
   "cell_type": "code",
   "execution_count": 321,
   "metadata": {},
   "outputs": [
    {
     "name": "stdout",
     "output_type": "stream",
     "text": [
      "Accuracy: 0.7083333333333334\n"
     ]
    }
   ],
   "source": [
    "ds = GradientBoostingClassifier(max_depth = 4, n_estimators= 20)\n",
    "ds = ds.fit(x_train, y_train)\n",
    "y_pred = ds.predict(x_test)\n",
    "print(\"Accuracy:\",metrics.accuracy_score(y_test, y_pred))"
   ]
  },
  {
   "cell_type": "code",
   "execution_count": 322,
   "metadata": {},
   "outputs": [
    {
     "data": {
      "image/png": "[encoded data removed]",
      "text/plain": [
       "<Figure size 2500x2000 with 1 Axes>"
      ]
     },
     "metadata": {},
     "output_type": "display_data"
    }
   ],
   "source": [
    "# save the decision_tree as png\n",
    "fig = plt.figure(figsize=(25,20))\n",
    "_ = tree.plot_tree(ds.estimators_[0,0], \n",
    "                   filled=True,\n",
    "                  feature_names=features, rounded=True, class_names=list(target))\n",
    "fig.savefig(\"decision_treeboost.png\")"
   ]
  },
  {
   "cell_type": "markdown",
   "metadata": {},
   "source": [
    "#### 12. Fit a Random forest decision tree classifier\n",
    "\n",
    "* Use the splitted dataset defined in exercise 10.\n",
    "* Create a `sklearn.tree.RandomForestClassifier` and set the maximum tree depth to 4 and n_estimators to 100.\n",
    "* Use a low number of max features per tree, 3 to 5\n",
    "* Fit the random forest decision tree classifier\n",
    "* Predict the response for the test dataset\n",
    "* Print the accuracy\n",
    "* Discuss the results of the accuracy for the 3 methods (DT, BDT, RF). How could you improve on the results?"
   ]
  },
  {
   "cell_type": "code",
   "execution_count": 290,
   "metadata": {},
   "outputs": [
    {
     "name": "stdout",
     "output_type": "stream",
     "text": [
      "Accuracy: 0.69\n"
     ]
    }
   ],
   "source": [
    "db= RandomForestClassifier(max_depth = 6)\n",
    "x_train_subset = x_train[:,:5]\n",
    "x_test_subset = x_test[:,:5]\n",
    "db = db.fit(x_train_subset, y_train)\n",
    "y_pred = db.predict(x_test_subset)\n",
    "print(\"Accuracy:\",metrics.accuracy_score(y_test, y_pred))"
   ]
  },
  {
   "cell_type": "markdown",
   "metadata": {},
   "source": [
    "**A**\n",
    "- BDT performed better than all on training sample, but shows sign of overtraining\n",
    "- RF performed marginally better than DT on testing sample, and has little overtraining\n",
    "- Performace needs to be tuned by doing a hyperparameter optimisation"
   ]
  },
  {
   "cell_type": "markdown",
   "metadata": {},
   "source": [
    "# Hyper parameter optimisation (bonus)\n",
    "\n",
    "We can use built in sklearn functionality to make the search of hyperparameters easier. We can use =GridSearchCV= though we will only introduce CrossValidation next week. "
   ]
  },
  {
   "cell_type": "code",
   "execution_count": 312,
   "metadata": {},
   "outputs": [],
   "source": [
    "from sklearn.model_selection import GridSearchCV"
   ]
  },
  {
   "cell_type": "markdown",
   "metadata": {},
   "source": [
    "Use the following dictionary to run a scan over AdaBoostClassifer. Note that `n_jobs` can be used to employ multiple CPUs on your PC.\n",
    "\n",
    "Get the best fit parameters from your search. Hint: check the methods attached to the search object. `best_estimator_` is particularly useful for this.\n",
    "\n",
    "Calculate the accuracy as above.\n",
    "\n",
    "Try other algorithms (GradBoosting, RandomForests)"
   ]
  },
  {
   "cell_type": "code",
   "execution_count": 28,
   "metadata": {},
   "outputs": [],
   "source": [
    "ada_dic={\n",
    "    \"n_estimators\":[10,50,100,200,500,1000],\n",
    "    \"learning_rate\": [.05,.1,.5,1],\n",
    "    }"
   ]
  },
  {
   "cell_type": "code",
   "execution_count": 316,
   "metadata": {},
   "outputs": [],
   "source": [
    "da = AdaBoostClassifier(n_estimators=500, learning_rate=0.1)"
   ]
  },
  {
   "cell_type": "code",
   "execution_count": 317,
   "metadata": {},
   "outputs": [
    {
     "name": "stdout",
     "output_type": "stream",
     "text": [
      "Accuracy: 0.7033333333333334\n"
     ]
    }
   ],
   "source": [
    "da = da.fit(x_train, y_train)\n",
    "y_predict = da.predict(x_test)\n",
    "print(\"Accuracy:\",metrics.accuracy_score(y_test, y_pred))\n"
   ]
  },
  {
   "cell_type": "code",
   "execution_count": null,
   "metadata": {},
   "outputs": [],
   "source": []
  }
 ],
 "metadata": {
  "kernelspec": {
   "display_name": "Python 3",
   "language": "python",
   "name": "python3"
  },
  "language_info": {
   "codemirror_mode": {
    "name": "ipython",
    "version": 3
   },
   "file_extension": ".py",
   "mimetype": "text/x-python",
   "name": "python",
   "nbconvert_exporter": "python",
   "pygments_lexer": "ipython3",
   "version": "3.13.5"
  }
 },
 "nbformat": 4,
 "nbformat_minor": 4
}
